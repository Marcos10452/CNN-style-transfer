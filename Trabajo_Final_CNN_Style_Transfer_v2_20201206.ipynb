{
  "nbformat": 4,
  "nbformat_minor": 0,
  "metadata": {
    "accelerator": "GPU",
    "colab": {
      "name": "Trabajo_Final_CNN_Style_Transfer_v2_20201206.ipynb",
      "provenance": [],
      "collapsed_sections": [],
      "toc_visible": true
    },
    "kernelspec": {
      "display_name": "Python 3",
      "language": "python",
      "name": "python3"
    },
    "language_info": {
      "codemirror_mode": {
        "name": "ipython",
        "version": 3
      },
      "file_extension": ".py",
      "mimetype": "text/x-python",
      "name": "python",
      "nbconvert_exporter": "python",
      "pygments_lexer": "ipython3",
      "version": "3.7.6"
    }
  },
  "cells": [
    {
      "cell_type": "markdown",
      "metadata": {
        "id": "view-in-github"
      },
      "source": [
        "<a href=\"https://colab.research.google.com/github/deeplearning-itba/cnn/blob/master/Trabajo_Final_CNN_Style_Transfer.ipynb\" target=\"_parent\"><img src=\"https://colab.research.google.com/assets/colab-badge.svg\" alt=\"Open In Colab\"/></a>"
      ]
    },
    {
      "cell_type": "markdown",
      "metadata": {
        "id": "Nxn3TfkvbT0p"
      },
      "source": [
        "# New Section"
      ]
    },
    {
      "cell_type": "markdown",
      "metadata": {
        "id": "qCY6UbkkI9_N"
      },
      "source": [
        "# Style Transfer\n",
        "\n",
        "<img src=\"https://i0.wp.com/chelseatroy.com/wp-content/uploads/2018/12/neural_style_transfer.png?resize=768%2C311&ssl=1\">\n",
        "\n",
        "La idea de este trabajo final es reproducir el siguiente paper:\n",
        "\n",
        "https://arxiv.org/pdf/1508.06576.pdf\n",
        "\n",
        "El objetivo es transferir el estilo de una imagen dada a otra imagen distinta. \n",
        "\n",
        "Como hemos visto en clase, las primeras capas de una red convolucional se activan ante la presencia de ciertos patrones vinculados a detalles muy pequeños.\n",
        "\n",
        "A medida que avanzamos en las distintas capas de una red neuronal convolucional, los filtros se van activando a medida que detectan patrones de formas cada vez mas complejos.\n",
        "\n",
        "Lo que propone este paper es asignarle a la activación de las primeras capas de una red neuronal convolucional (por ejemplo VGG19) la definición del estilo y a la activación de las últimas capas de la red neuronal convolucional, la definición del contenido.\n",
        "\n",
        "La idea de este paper es, a partir de dos imágenes (una que aporte el estilo y otra que aporte el contenido) analizar cómo es la activación de las primeras capas para la imagen que aporta el estilo y cómo es la activación de las últimas capas de la red convolucional para la imagen que aporta el contenido. A partir de esto se intentará sintetizar una imagen que active los filtros de las primeras capas que se activaron con la imagen que aporta el estilo y los filtros de las últimas capas que se activaron con la imagen que aporta el contenido.\n",
        "\n",
        "A este procedimiento se lo denomina neural style transfer.\n",
        "\n",
        "# En este trabajo se deberá leer el paper mencionado y en base a ello, entender la implementación que se muestra a continuación y contestar preguntas sobre la misma.\n",
        "\n",
        "# Una metodología posible es hacer una lectura rápida del paper (aunque esto signifique no entender algunos detalles del mismo) y luego ir analizando el código y respondiendo las preguntas. A medida que se planteen las preguntas, volviendo a leer secciones específicas del paper terminará de entender los detalles que pudieran haber quedado pendientes.\n",
        "\n",
        "Lo primero que haremos es cargar dos imágenes, una que aporte el estilo y otra que aporte el contenido. A tal fin utilizaremos imágenes disponibles en la web."
      ]
    },
    {
      "cell_type": "code",
      "metadata": {
        "id": "kyHsa2t0SxZi",
        "scrolled": true
      },
      "source": [
        "# Imagen para estilo\n",
        "!wget https://upload.wikimedia.org/wikipedia/commons/5/52/La_noche_estrellada1.jpg\n",
        "\n",
        "# Imagen para contenido\n",
        "!wget https://upload.wikimedia.org/wikipedia/commons/thumb/f/f4/Neckarfront_T%C3%BCbingen_Mai_2017.jpg/775px-Neckarfront_T%C3%BCbingen_Mai_2017.jpg\n",
        "\n",
        "# Creamos el directorio para los archivos de salida\n",
        "#!mkdir /content/output"
      ],
      "execution_count": null,
      "outputs": []
    },
    {
      "cell_type": "code",
      "metadata": {
        "id": "NIxH20o2eFoc"
      },
      "source": [
        "from keras.preprocessing.image import load_img, save_img, img_to_array\n",
        "import numpy as np\n",
        "from scipy.optimize import fmin_l_bfgs_b\n",
        "import time\n",
        "import argparse\n",
        "\n",
        "from keras.applications import vgg19\n",
        "from keras import backend as K\n",
        "from pathlib import Path\n",
        "\n",
        "import tensorflow as tf\n",
        "tf.compat.v1.disable_eager_execution()"
      ],
      "execution_count": 1,
      "outputs": []
    },
    {
      "cell_type": "code",
      "metadata": {
        "id": "yCng4Ym5CFZH",
        "colab": {
          "base_uri": "https://localhost:8080/",
          "height": 132
        },
        "outputId": "f3362aa3-274e-46ab-e3f4-6fda38fa2f52"
      },
      "source": [
        "Antes que nada importar el siguiente link en tu GDri"
      ],
      "execution_count": 2,
      "outputs": [
        {
          "output_type": "error",
          "ename": "SyntaxError",
          "evalue": "ignored",
          "traceback": [
            "\u001b[0;36m  File \u001b[0;32m\"<ipython-input-2-78563e7fa63f>\"\u001b[0;36m, line \u001b[0;32m1\u001b[0m\n\u001b[0;31m    Antes que nada importar el siguiente link en tu GDri\u001b[0m\n\u001b[0m            ^\u001b[0m\n\u001b[0;31mSyntaxError\u001b[0m\u001b[0;31m:\u001b[0m invalid syntax\n"
          ]
        }
      ]
    },
    {
      "cell_type": "markdown",
      "metadata": {
        "id": "9nQ08pQCIWCf"
      },
      "source": [
        ""
      ]
    },
    {
      "cell_type": "code",
      "metadata": {
        "id": "c-kJfckuByHD",
        "colab": {
          "base_uri": "https://localhost:8080/"
        },
        "outputId": "6ff2233a-092c-4238-e4b6-2e3066fd25a0"
      },
      "source": [
        "from google.colab import drive\n",
        "drive.mount('/content/drive')"
      ],
      "execution_count": 3,
      "outputs": [
        {
          "output_type": "stream",
          "text": [
            "Mounted at /content/drive\n"
          ],
          "name": "stdout"
        }
      ]
    },
    {
      "cell_type": "code",
      "metadata": {
        "id": "tKfydBmTCEV0"
      },
      "source": [
        ""
      ],
      "execution_count": 3,
      "outputs": []
    },
    {
      "cell_type": "code",
      "metadata": {
        "id": "xY4r0viPCEfi"
      },
      "source": [
        "DATASET_PATH = '/content/drive/My Drive/Data_Colab/ArtisticStyle/'\n",
        "IMAGES_PATH = DATASET_PATH + 'Input/Content/'\n",
        "STYLE_PATH = DATASET_PATH + 'Input/Style/'\n",
        "OUTPUT_PATH = DATASET_PATH + 'Output/'"
      ],
      "execution_count": 4,
      "outputs": []
    },
    {
      "cell_type": "code",
      "metadata": {
        "id": "NFviXQGpCSYQ"
      },
      "source": [
        ""
      ],
      "execution_count": 4,
      "outputs": []
    },
    {
      "cell_type": "code",
      "metadata": {
        "id": "rlz-1dyYByYC"
      },
      "source": [
        ""
      ],
      "execution_count": 4,
      "outputs": []
    },
    {
      "cell_type": "code",
      "metadata": {
        "id": "iLkV1bnFl_tK"
      },
      "source": [
        "# Definimos las imagenes que vamos a utilizar, y el directorio de salida\n",
        "#775px-Neckarfront_Tübingen_Mai_2017\n",
        "base_image_path = Path(IMAGES_PATH + \"barco2.JPG\")\n",
        "#base_image_path = Path(IMAGES_PATH + \"DSC06703.JPG\")\n",
        "#base_image_path = Path(IMAGES_PATH + \"DSC06296.JPG\")\n",
        "#base_image_path = Path(IMAGES_PATH + \"775px-Neckarfront_Tübingen_Mai_2017.jpg\")\n",
        "style_reference_image_path = Path(STYLE_PATH+\"Quinquela-Actividad-en-La-Boca1.jpg\")\n",
        "#style_reference_image_path = Path(STYLE_PATH+\"Riachuelo_Quinquela.jpg\")\n",
        "#style_reference_image_path = Path(STYLE_PATH+\"La_noche_estrellada1.jpg\")\n",
        "#style_reference_image_path = Path(STYLE_PATH+\"16198florencio.jpg\")\n",
        "result_prefix = Path(DATASET_PATH)\n",
        "iterations = 100"
      ],
      "execution_count": 5,
      "outputs": []
    },
    {
      "cell_type": "code",
      "metadata": {
        "id": "cEz88TCfBw6Z"
      },
      "source": [
        ""
      ],
      "execution_count": 5,
      "outputs": []
    },
    {
      "cell_type": "code",
      "metadata": {
        "id": "UmVjTzCjBvj1"
      },
      "source": [
        ""
      ],
      "execution_count": 5,
      "outputs": []
    },
    {
      "cell_type": "markdown",
      "metadata": {
        "id": "Gz2PeGfpeYzj"
      },
      "source": [
        "# 1) En base a lo visto en el paper ¿Qué significan los parámetros definidos en la siguiente celda?\n",
        "\n",
        "Respuesta:\n",
        "https://wandb.ai/authors/nerual_style_transfer/reports/Part-1-Deep-Representations-a-way-towards-neural-style-transfer--VmlldzoyMjQzNDY\n",
        "\n",
        "Respuesta: \n",
        "\n",
        "\n",
        "*  style_weight= beta y es el weight del estilo del arte \n",
        "*  content_weight=alpha y es el weigh de la representacion\n",
        "*  El total_variation_weight es la relación alpha/beta.\n",
        "\n",
        "Para la prueba de imagen elegida por mi se usó una relación 10-2\n",
        "\n",
        "\n"
      ]
    },
    {
      "cell_type": "code",
      "metadata": {
        "id": "P9Dt3aaEmJWS",
        "colab": {
          "base_uri": "https://localhost:8080/"
        },
        "outputId": "f93b0984-c267-42b4-817f-f5a7cc247829"
      },
      "source": [
        "style_weight = 1\n",
        "content_weight = 0.01\n",
        "total_variation_weight = content_weight/style_weight  #alpha/beta\n",
        "print(format(total_variation_weight, \"10.3E\"))"
      ],
      "execution_count": 6,
      "outputs": [
        {
          "output_type": "stream",
          "text": [
            " 1.000E-02\n"
          ],
          "name": "stdout"
        }
      ]
    },
    {
      "cell_type": "code",
      "metadata": {
        "id": "CQQJOhCVuse6"
      },
      "source": [
        "# Definimos el tamaño de las imágenes a utilizar\n",
        "width, height = load_img(base_image_path).size\n",
        "img_nrows = 400\n",
        "img_ncols = int(width * img_nrows / height)"
      ],
      "execution_count": 7,
      "outputs": []
    },
    {
      "cell_type": "code",
      "metadata": {
        "id": "RHxytdLtAYjQ",
        "colab": {
          "base_uri": "https://localhost:8080/"
        },
        "outputId": "5eea3a7e-e6fc-465f-8635-be04762f44af"
      },
      "source": [
        "width, height,img_ncols"
      ],
      "execution_count": 8,
      "outputs": [
        {
          "output_type": "execute_result",
          "data": {
            "text/plain": [
              "(852, 639, 533)"
            ]
          },
          "metadata": {
            "tags": []
          },
          "execution_count": 8
        }
      ]
    },
    {
      "cell_type": "markdown",
      "metadata": {
        "id": "gg2ct-8agm1E"
      },
      "source": [
        "# 2) Explicar qué hace la siguiente celda. En especial las últimas dos líneas de la función antes del return. ¿Por qué?\n",
        "\n",
        "Ayuda: https://keras.io/applications/\n",
        "\n",
        "Respuesta:\n",
        "\n",
        "- 1era linea Carga la imagen con las dimensiones establecidas\n",
        "\n",
        "- 2nda linea Se pasa a formato array la foto\n",
        "\n",
        "- 3era linea Se agrega una nueva dimensión 0. La razón es que Keras trabaja con batches de imagenes. Así que la primera dimensión se usa para el number de muestras(o imagenes que se tenga).\n",
        "https://stackoverflow.com/questions/47555829/preprocess-input-method-in-keras\n",
        "\n",
        "- 4ta linea Se carga la imagen a la VGG19 al formato.\n",
        "\n"
      ]
    },
    {
      "cell_type": "code",
      "metadata": {
        "id": "tAkljg4zuzYd"
      },
      "source": [
        "def preprocess_image(image_path):\n",
        "    img = load_img(image_path, target_size=(img_nrows, img_ncols))\n",
        "    img = img_to_array(img)\n",
        "    img = np.expand_dims(img, axis=0)\n",
        "    img = vgg19.preprocess_input(img)\n",
        "    return img"
      ],
      "execution_count": 9,
      "outputs": []
    },
    {
      "cell_type": "markdown",
      "metadata": {
        "id": "KTf0YDSagt10"
      },
      "source": [
        "# 3) Habiendo comprendido lo que hace la celda anterior, explique de manera muy concisa qué hace la siguiente celda. ¿Qué relación tiene con la celda anterior?\n",
        "\n",
        "Respuesta:\n",
        "- Reconvierte el array insertado en la VGG19 a imagen. (saca la dimensión extra, le carga los promedios por canal e invierte el array para hacerlo RGB)\n",
        "\n",
        "- Además al subir el modelo VGG19 se cambio pooling por \"avg\" ya que en el paper indica que mejora la convergencia del gradiente y un resultado un poco mas real."
      ]
    },
    {
      "cell_type": "code",
      "metadata": {
        "id": "y5LaTrsAu14z"
      },
      "source": [
        "def deprocess_image (x):\n",
        "    x = x.reshape((img_nrows, img_ncols, 3))\n",
        "    # Remove zero-center by mean pixel\n",
        "    x[:, :, 0] += 103.939\n",
        "    x[:, :, 1] += 116.779\n",
        "    x[:, :, 2] += 123.68\n",
        "    # 'BGR'->'RGB'\n",
        "    x = x[:, :, ::-1]\n",
        "    x = np.clip(x, 0, 255).astype('uint8')\n",
        "    return x"
      ],
      "execution_count": 10,
      "outputs": []
    },
    {
      "cell_type": "code",
      "metadata": {
        "id": "HYNio09mu4S3"
      },
      "source": [
        "# get tensor representations of our images\n",
        "# K.variable convierte un numpy array en un tensor, para "
      ],
      "execution_count": 11,
      "outputs": []
    },
    {
      "cell_type": "code",
      "metadata": {
        "id": "MzZj4_J-AYjh"
      },
      "source": [
        "base_image = K.variable(preprocess_image(base_image_path))"
      ],
      "execution_count": 12,
      "outputs": []
    },
    {
      "cell_type": "code",
      "metadata": {
        "id": "uB8SdL4zAYjq"
      },
      "source": [
        "style_reference_image = K.variable(preprocess_image(style_reference_image_path))"
      ],
      "execution_count": 14,
      "outputs": []
    },
    {
      "cell_type": "code",
      "metadata": {
        "id": "a1Lbw02Uu--o"
      },
      "source": [
        "combination_image = K.placeholder((1, img_nrows, img_ncols, 3))"
      ],
      "execution_count": 15,
      "outputs": []
    },
    {
      "cell_type": "markdown",
      "metadata": {
        "id": "RJEi0YI3Uzrm"
      },
      "source": [
        "Aclaración:\n",
        "\n",
        "La siguiente celda sirve para procesar las tres imagenes (contenido, estilo y salida) en un solo batch."
      ]
    },
    {
      "cell_type": "code",
      "metadata": {
        "id": "gGO_jGFfvEbF"
      },
      "source": [
        "# combine the 3 images into a single Keras tensor\n",
        "input_tensor = K.concatenate([base_image,\n",
        "                              style_reference_image,\n",
        "                              combination_image], axis=0)"
      ],
      "execution_count": 16,
      "outputs": []
    },
    {
      "cell_type": "code",
      "metadata": {
        "id": "tdG59VRavHGB",
        "colab": {
          "base_uri": "https://localhost:8080/"
        },
        "outputId": "ef30f835-cf73-4d52-e90b-e24ea2511fed"
      },
      "source": [
        "# build the VGG19 network with our 3 images as input\n",
        "# the model will be loaded with pre-trained ImageNet weights\n",
        "model = vgg19.VGG19(input_tensor=input_tensor,\n",
        "                    weights='imagenet', include_top=False,pooling='avg')\n",
        "print('Model loaded.')\n",
        "\n",
        "# get the symbolic outputs of each \"key\" layer (we gave them unique names).\n",
        "outputs_dict = dict([(layer.name, layer.output) for layer in model.layers])"
      ],
      "execution_count": 17,
      "outputs": [
        {
          "output_type": "stream",
          "text": [
            "Downloading data from https://storage.googleapis.com/tensorflow/keras-applications/vgg19/vgg19_weights_tf_dim_ordering_tf_kernels_notop.h5\n",
            "80142336/80134624 [==============================] - 4s 0us/step\n",
            "Model loaded.\n"
          ],
          "name": "stdout"
        }
      ]
    },
    {
      "cell_type": "markdown",
      "metadata": {
        "id": "70-vs_jZkKVc"
      },
      "source": [
        "# 4) En la siguientes celdas:\n",
        "\n",
        "1 ¿Qué es la matriz de Gram?¿Para qué se usa?\n",
        "- Se usa la Gram Matrix para medir el grado de correlacion entre cada uno de los canales que luego se usara como una medicion del tipo de Style en si mismo. Se calcula en base a la dimension de la capa de activación por cada uno de los canales y se usa la transpuesta G= M x M tranpuesta\n",
        "\n",
        "2 ¿Por qué se permutan las dimensiones de x?\n",
        "- Sirve para modificar las dimensiones del array imagen y llevarlo para el formato que se ingrea batch_flatten, donde se generar 3 vectores flatten 1D.\n",
        "\n",
        "https://towardsdatascience.com/neural-style-transfer-tutorial-part-1-f5cd3315fa7f\n",
        "\n",
        "https://towardsdatascience.com/neural-networks-intuitions-2-dot-product-gram-matrix-and-neural-style-transfer-5d39653e7916\n",
        "\n",
        "\n"
      ]
    },
    {
      "cell_type": "code",
      "metadata": {
        "id": "K1FODPATvJ1k"
      },
      "source": [
        "def gram_matrix(x):\n",
        "    features = K.batch_flatten(K.permute_dimensions(x, (2, 0, 1)))\n",
        "    gram = K.dot(features, K.transpose(features))\n",
        "    return gram"
      ],
      "execution_count": 18,
      "outputs": []
    },
    {
      "cell_type": "markdown",
      "metadata": {
        "id": "vBQkKFY0Rbx-"
      },
      "source": [
        "# 5) Losses:\n",
        "\n",
        "Explicar qué mide cada una de las losses en las siguientes tres celdas.\n",
        "\n",
        "Rta:\n",
        "\n",
        "- 1ero Calcula loss etre la Gram Matix menos la Gram Matrix de la imagen generada (MSE)\n",
        "\n",
        "- 2da Mide la diferencia cuadratica entre los feature de representación en un layer determinado de la imagen original y la imagen generada\n",
        "\n",
        "- 3ero total_variation_loss es para regularizar los componentes de alta frecuencia de la imagen\n",
        "https://www.tensorflow.org/tutorials/generative/style_transfer"
      ]
    },
    {
      "cell_type": "code",
      "metadata": {
        "id": "1-Gt0ahWvN6q"
      },
      "source": [
        "def style_loss(style, combination):\n",
        "    assert K.ndim(style) == 3\n",
        "    assert K.ndim(combination) == 3\n",
        "    S = gram_matrix(style)\n",
        "    C = gram_matrix(combination)\n",
        "    channels = 3\n",
        "    size = img_nrows * img_ncols\n",
        "    return K.sum(K.square(S - C)) / (4.0 * (channels ** 2) * (size ** 2))"
      ],
      "execution_count": 19,
      "outputs": []
    },
    {
      "cell_type": "code",
      "metadata": {
        "id": "XCqnju5RvQCo"
      },
      "source": [
        "def content_loss(base, combination):\n",
        "    return K.sum(K.square(combination - base))\n"
      ],
      "execution_count": 20,
      "outputs": []
    },
    {
      "cell_type": "code",
      "metadata": {
        "id": "udEp5h31vRnY"
      },
      "source": [
        "def total_variation_loss(x):\n",
        "    assert K.ndim(x) == 4\n",
        "    a = K.square(\n",
        "        x[:, :img_nrows - 1, :img_ncols - 1, :] - x[:, 1:, :img_ncols - 1, :])\n",
        "    b = K.square(\n",
        "        x[:, :img_nrows - 1, :img_ncols - 1, :] - x[:, :img_nrows - 1, 1:, :])\n",
        "    return K.sum(K.pow(a + b, 1.25))\n"
      ],
      "execution_count": 21,
      "outputs": []
    },
    {
      "cell_type": "code",
      "metadata": {
        "id": "-65vcinbvTZ0"
      },
      "source": [
        "# Armamos la loss total\n",
        "loss = K.variable(0.0)\n",
        "layer_features = outputs_dict['block5_conv2']\n",
        "base_image_features = layer_features[0, :, :, :]\n",
        "combination_features = layer_features[2, :, :, :]\n",
        "loss = loss + content_weight * content_loss(base_image_features,\n",
        "                                            combination_features)\n",
        "\n",
        "feature_layers = ['block1_conv1', 'block2_conv1',\n",
        "                  'block3_conv1', 'block4_conv1',\n",
        "                  'block5_conv1']\n",
        "for layer_name in feature_layers:\n",
        "    layer_features = outputs_dict[layer_name]\n",
        "    style_reference_features = layer_features[1, :, :, :] \n",
        "    combination_features = layer_features[2, :, :, :]\n",
        "    sl = style_loss(style_reference_features, combination_features)\n",
        "    loss = loss + (style_weight / len(feature_layers)) * sl\n",
        "loss = loss + total_variation_weight * total_variation_loss(combination_image)"
      ],
      "execution_count": 22,
      "outputs": []
    },
    {
      "cell_type": "code",
      "metadata": {
        "id": "Hz7a6o3kLeFx"
      },
      "source": [
        ""
      ],
      "execution_count": 22,
      "outputs": []
    },
    {
      "cell_type": "code",
      "metadata": {
        "id": "pbz4n1OhvV2K"
      },
      "source": [
        "grads = K.gradients(loss, combination_image)\n",
        "#grads = tf.GradientTape(loss, combination_image)\n",
        "\n",
        "outputs = [loss]\n",
        "if isinstance(grads, (list, tuple)):\n",
        "    outputs += grads\n",
        "else:\n",
        "    outputs.append(grads)\n",
        "\n",
        "f_outputs = K.function([combination_image], outputs)"
      ],
      "execution_count": 23,
      "outputs": []
    },
    {
      "cell_type": "markdown",
      "metadata": {
        "id": "1JbydbOaVcvU"
      },
      "source": [
        "# 6) Explique el propósito de las siguientes tres celdas. ¿Qué hace la función fmin_l_bfgs_b? ¿En qué se diferencia con la implementación del paper? ¿Se puede utilizar alguna alternativa?\n",
        "\n",
        "Respuesta:\n",
        "\n",
        "- fmin_l_bfgs_b se basa en el algoritmo de memoria limtada BFGS  y se usa para reducir en este caso el minimo de una funcion determinada. \n",
        "Se busca la función a minimizar, loss, luego se agrega el vector X incial de la imagen y la función gradiente calculada con Keras.\n",
        "f_outputs define la loss y el gradiente de la imagen combinada en la primera corrida.\n",
        "Luego con eval_loss_and_grads y Evaluator class generan la función de loss y gradiente para la fmin_l_bfgs_b.\n",
        "\n",
        "https://en.wikipedia.org/wiki/Limited-memory_BFGS\n",
        "\n",
        "- La diferencia que se ve es que no se usó la matriz gram, la loss y el gradiente mostrados en el paper. Se observa que en la impletación se usaron las funciones keras.gradient con la loss de inicio calculada en base al paper y se pasó las dimensiones del layer de combinacion.Y luego, como se hace mension arriba, se usa keras.function() junto con la class Evaluator para calcular al mismo momento la loss y el gradiente.\n",
        "\n",
        "- Leyenedo el tutorial de Tensorflow se podría usar con GradientTape()"
      ]
    },
    {
      "cell_type": "code",
      "metadata": {
        "id": "zVE1_qemvZeN"
      },
      "source": [
        "def eval_loss_and_grads(x):\n",
        "    x = x.reshape((1, img_nrows, img_ncols, 3))\n",
        "    outs = f_outputs([x])\n",
        "    loss_value = outs[0]\n",
        "    if len(outs[1:]) == 1:\n",
        "        grad_values = outs[1].flatten().astype('float64')\n",
        "    else:\n",
        "        grad_values = np.array(outs[1:]).flatten().astype('float64')\n",
        "    return loss_value, grad_values\n",
        "\n",
        "# this Evaluator class makes it possible\n",
        "# to compute loss and gradients in one pass\n",
        "# while retrieving them via two separate functions,\n",
        "# \"loss\" and \"grads\". This is done because scipy.optimize\n",
        "# requires separate functions for loss and gradients,\n",
        "# but computing them separately would be inefficient."
      ],
      "execution_count": 24,
      "outputs": []
    },
    {
      "cell_type": "code",
      "metadata": {
        "id": "Qbl9roIgvdb1"
      },
      "source": [
        "class Evaluator(object):\n",
        "\n",
        "    def __init__(self):\n",
        "        self.loss_value = None\n",
        "        self.grads_values = None\n",
        "\n",
        "    def loss(self, x):\n",
        "        assert self.loss_value is None\n",
        "        loss_value, grad_values = eval_loss_and_grads(x)\n",
        "        self.loss_value = loss_value\n",
        "        self.grad_values = grad_values\n",
        "        return self.loss_value\n",
        "\n",
        "    def grads(self, x):\n",
        "        assert self.loss_value is not None\n",
        "        grad_values = np.copy(self.grad_values)\n",
        "        self.loss_value = None\n",
        "        self.grad_values = None\n",
        "        return grad_values"
      ],
      "execution_count": 25,
      "outputs": []
    },
    {
      "cell_type": "markdown",
      "metadata": {
        "id": "Sb0yOEl-WOE6"
      },
      "source": [
        "# 7) Ejecute la siguiente celda y observe las imágenes de salida en cada iteración."
      ]
    },
    {
      "cell_type": "code",
      "metadata": {
        "id": "n31YBwCVvhAI",
        "scrolled": true,
        "colab": {
          "base_uri": "https://localhost:8080/"
        },
        "outputId": "a34fa0a4-76fd-442b-9cf2-0aee38d159eb"
      },
      "source": [
        "evaluator = Evaluator()\n",
        "\n",
        "# run scipy-based optimization (L-BFGS) over the pixels of the generated image\n",
        "# so as to minimize the neural style loss\n",
        "x = preprocess_image(base_image_path)\n",
        "\n",
        "for i in range(iterations):\n",
        "    print('Start of iteration', i)\n",
        "    start_time = time.time()\n",
        "    x, min_val, info = fmin_l_bfgs_b(evaluator.loss, x.flatten(),\n",
        "                                     fprime=evaluator.grads, maxfun=20)\n",
        "    print('Current loss value:', min_val)\n",
        "    # save current generated image\n",
        "    img = deprocess_image(x.copy())\n",
        "    fname = result_prefix / ('output_at_iteration_%d.png' % i)\n",
        "    save_img(fname, img)\n",
        "    end_time = time.time()\n",
        "    print('Image saved as', fname)\n",
        "    print('Iteration %d completed in %ds' % (i, end_time - start_time))"
      ],
      "execution_count": 26,
      "outputs": [
        {
          "output_type": "stream",
          "text": [
            "Start of iteration 0\n",
            "Current loss value: 3550283500.0\n",
            "Image saved as /content/drive/My Drive/Data_Colab/ArtisticStyle/output_at_iteration_0.png\n",
            "Iteration 0 completed in 24s\n",
            "Start of iteration 1\n",
            "Current loss value: 1450553600.0\n",
            "Image saved as /content/drive/My Drive/Data_Colab/ArtisticStyle/output_at_iteration_1.png\n",
            "Iteration 1 completed in 14s\n",
            "Start of iteration 2\n",
            "Current loss value: 965058200.0\n",
            "Image saved as /content/drive/My Drive/Data_Colab/ArtisticStyle/output_at_iteration_2.png\n",
            "Iteration 2 completed in 14s\n",
            "Start of iteration 3\n",
            "Current loss value: 775842700.0\n",
            "Image saved as /content/drive/My Drive/Data_Colab/ArtisticStyle/output_at_iteration_3.png\n",
            "Iteration 3 completed in 14s\n",
            "Start of iteration 4\n",
            "Current loss value: 658797250.0\n",
            "Image saved as /content/drive/My Drive/Data_Colab/ArtisticStyle/output_at_iteration_4.png\n",
            "Iteration 4 completed in 14s\n",
            "Start of iteration 5\n",
            "Current loss value: 593817500.0\n",
            "Image saved as /content/drive/My Drive/Data_Colab/ArtisticStyle/output_at_iteration_5.png\n",
            "Iteration 5 completed in 14s\n",
            "Start of iteration 6\n",
            "Current loss value: 547204350.0\n",
            "Image saved as /content/drive/My Drive/Data_Colab/ArtisticStyle/output_at_iteration_6.png\n",
            "Iteration 6 completed in 14s\n",
            "Start of iteration 7\n",
            "Current loss value: 513032400.0\n",
            "Image saved as /content/drive/My Drive/Data_Colab/ArtisticStyle/output_at_iteration_7.png\n",
            "Iteration 7 completed in 14s\n",
            "Start of iteration 8\n",
            "Current loss value: 481060260.0\n",
            "Image saved as /content/drive/My Drive/Data_Colab/ArtisticStyle/output_at_iteration_8.png\n",
            "Iteration 8 completed in 14s\n",
            "Start of iteration 9\n",
            "Current loss value: 456330800.0\n",
            "Image saved as /content/drive/My Drive/Data_Colab/ArtisticStyle/output_at_iteration_9.png\n",
            "Iteration 9 completed in 15s\n",
            "Start of iteration 10\n",
            "Current loss value: 434277820.0\n",
            "Image saved as /content/drive/My Drive/Data_Colab/ArtisticStyle/output_at_iteration_10.png\n",
            "Iteration 10 completed in 14s\n",
            "Start of iteration 11\n",
            "Current loss value: 415131420.0\n",
            "Image saved as /content/drive/My Drive/Data_Colab/ArtisticStyle/output_at_iteration_11.png\n",
            "Iteration 11 completed in 14s\n",
            "Start of iteration 12\n",
            "Current loss value: 392079100.0\n",
            "Image saved as /content/drive/My Drive/Data_Colab/ArtisticStyle/output_at_iteration_12.png\n",
            "Iteration 12 completed in 14s\n",
            "Start of iteration 13\n",
            "Current loss value: 374293570.0\n",
            "Image saved as /content/drive/My Drive/Data_Colab/ArtisticStyle/output_at_iteration_13.png\n",
            "Iteration 13 completed in 14s\n",
            "Start of iteration 14\n",
            "Current loss value: 361384900.0\n",
            "Image saved as /content/drive/My Drive/Data_Colab/ArtisticStyle/output_at_iteration_14.png\n",
            "Iteration 14 completed in 14s\n",
            "Start of iteration 15\n",
            "Current loss value: 352172100.0\n",
            "Image saved as /content/drive/My Drive/Data_Colab/ArtisticStyle/output_at_iteration_15.png\n",
            "Iteration 15 completed in 14s\n",
            "Start of iteration 16\n",
            "Current loss value: 340474800.0\n",
            "Image saved as /content/drive/My Drive/Data_Colab/ArtisticStyle/output_at_iteration_16.png\n",
            "Iteration 16 completed in 14s\n",
            "Start of iteration 17\n",
            "Current loss value: 330595620.0\n",
            "Image saved as /content/drive/My Drive/Data_Colab/ArtisticStyle/output_at_iteration_17.png\n",
            "Iteration 17 completed in 14s\n",
            "Start of iteration 18\n",
            "Current loss value: 320877300.0\n",
            "Image saved as /content/drive/My Drive/Data_Colab/ArtisticStyle/output_at_iteration_18.png\n",
            "Iteration 18 completed in 14s\n",
            "Start of iteration 19\n",
            "Current loss value: 312175500.0\n",
            "Image saved as /content/drive/My Drive/Data_Colab/ArtisticStyle/output_at_iteration_19.png\n",
            "Iteration 19 completed in 14s\n",
            "Start of iteration 20\n",
            "Current loss value: 305217860.0\n",
            "Image saved as /content/drive/My Drive/Data_Colab/ArtisticStyle/output_at_iteration_20.png\n",
            "Iteration 20 completed in 14s\n",
            "Start of iteration 21\n",
            "Current loss value: 298971680.0\n",
            "Image saved as /content/drive/My Drive/Data_Colab/ArtisticStyle/output_at_iteration_21.png\n",
            "Iteration 21 completed in 14s\n",
            "Start of iteration 22\n",
            "Current loss value: 289864700.0\n",
            "Image saved as /content/drive/My Drive/Data_Colab/ArtisticStyle/output_at_iteration_22.png\n",
            "Iteration 22 completed in 14s\n",
            "Start of iteration 23\n",
            "Current loss value: 282816030.0\n",
            "Image saved as /content/drive/My Drive/Data_Colab/ArtisticStyle/output_at_iteration_23.png\n",
            "Iteration 23 completed in 14s\n",
            "Start of iteration 24\n",
            "Current loss value: 275968700.0\n",
            "Image saved as /content/drive/My Drive/Data_Colab/ArtisticStyle/output_at_iteration_24.png\n",
            "Iteration 24 completed in 14s\n",
            "Start of iteration 25\n",
            "Current loss value: 270133060.0\n",
            "Image saved as /content/drive/My Drive/Data_Colab/ArtisticStyle/output_at_iteration_25.png\n",
            "Iteration 25 completed in 14s\n",
            "Start of iteration 26\n",
            "Current loss value: 266454350.0\n",
            "Image saved as /content/drive/My Drive/Data_Colab/ArtisticStyle/output_at_iteration_26.png\n",
            "Iteration 26 completed in 14s\n",
            "Start of iteration 27\n",
            "Current loss value: 262833340.0\n",
            "Image saved as /content/drive/My Drive/Data_Colab/ArtisticStyle/output_at_iteration_27.png\n",
            "Iteration 27 completed in 14s\n",
            "Start of iteration 28\n",
            "Current loss value: 259250020.0\n",
            "Image saved as /content/drive/My Drive/Data_Colab/ArtisticStyle/output_at_iteration_28.png\n",
            "Iteration 28 completed in 14s\n",
            "Start of iteration 29\n",
            "Current loss value: 254807800.0\n",
            "Image saved as /content/drive/My Drive/Data_Colab/ArtisticStyle/output_at_iteration_29.png\n",
            "Iteration 29 completed in 14s\n",
            "Start of iteration 30\n",
            "Current loss value: 250583260.0\n",
            "Image saved as /content/drive/My Drive/Data_Colab/ArtisticStyle/output_at_iteration_30.png\n",
            "Iteration 30 completed in 14s\n",
            "Start of iteration 31\n",
            "Current loss value: 246715360.0\n",
            "Image saved as /content/drive/My Drive/Data_Colab/ArtisticStyle/output_at_iteration_31.png\n",
            "Iteration 31 completed in 14s\n",
            "Start of iteration 32\n",
            "Current loss value: 243655490.0\n",
            "Image saved as /content/drive/My Drive/Data_Colab/ArtisticStyle/output_at_iteration_32.png\n",
            "Iteration 32 completed in 14s\n",
            "Start of iteration 33\n",
            "Current loss value: 240472350.0\n",
            "Image saved as /content/drive/My Drive/Data_Colab/ArtisticStyle/output_at_iteration_33.png\n",
            "Iteration 33 completed in 14s\n",
            "Start of iteration 34\n",
            "Current loss value: 237675260.0\n",
            "Image saved as /content/drive/My Drive/Data_Colab/ArtisticStyle/output_at_iteration_34.png\n",
            "Iteration 34 completed in 14s\n",
            "Start of iteration 35\n",
            "Current loss value: 234902430.0\n",
            "Image saved as /content/drive/My Drive/Data_Colab/ArtisticStyle/output_at_iteration_35.png\n",
            "Iteration 35 completed in 14s\n",
            "Start of iteration 36\n",
            "Current loss value: 232153070.0\n",
            "Image saved as /content/drive/My Drive/Data_Colab/ArtisticStyle/output_at_iteration_36.png\n",
            "Iteration 36 completed in 14s\n",
            "Start of iteration 37\n",
            "Current loss value: 228721440.0\n",
            "Image saved as /content/drive/My Drive/Data_Colab/ArtisticStyle/output_at_iteration_37.png\n",
            "Iteration 37 completed in 14s\n",
            "Start of iteration 38\n",
            "Current loss value: 225605730.0\n",
            "Image saved as /content/drive/My Drive/Data_Colab/ArtisticStyle/output_at_iteration_38.png\n",
            "Iteration 38 completed in 14s\n",
            "Start of iteration 39\n",
            "Current loss value: 223265710.0\n",
            "Image saved as /content/drive/My Drive/Data_Colab/ArtisticStyle/output_at_iteration_39.png\n",
            "Iteration 39 completed in 14s\n",
            "Start of iteration 40\n",
            "Current loss value: 221109520.0\n",
            "Image saved as /content/drive/My Drive/Data_Colab/ArtisticStyle/output_at_iteration_40.png\n",
            "Iteration 40 completed in 14s\n",
            "Start of iteration 41\n",
            "Current loss value: 219160830.0\n",
            "Image saved as /content/drive/My Drive/Data_Colab/ArtisticStyle/output_at_iteration_41.png\n",
            "Iteration 41 completed in 14s\n",
            "Start of iteration 42\n",
            "Current loss value: 217353120.0\n",
            "Image saved as /content/drive/My Drive/Data_Colab/ArtisticStyle/output_at_iteration_42.png\n",
            "Iteration 42 completed in 14s\n",
            "Start of iteration 43\n",
            "Current loss value: 215203730.0\n",
            "Image saved as /content/drive/My Drive/Data_Colab/ArtisticStyle/output_at_iteration_43.png\n",
            "Iteration 43 completed in 14s\n",
            "Start of iteration 44\n",
            "Current loss value: 213289170.0\n",
            "Image saved as /content/drive/My Drive/Data_Colab/ArtisticStyle/output_at_iteration_44.png\n",
            "Iteration 44 completed in 14s\n",
            "Start of iteration 45\n",
            "Current loss value: 211349250.0\n",
            "Image saved as /content/drive/My Drive/Data_Colab/ArtisticStyle/output_at_iteration_45.png\n",
            "Iteration 45 completed in 14s\n",
            "Start of iteration 46\n",
            "Current loss value: 209225230.0\n",
            "Image saved as /content/drive/My Drive/Data_Colab/ArtisticStyle/output_at_iteration_46.png\n",
            "Iteration 46 completed in 14s\n",
            "Start of iteration 47\n",
            "Current loss value: 207109680.0\n",
            "Image saved as /content/drive/My Drive/Data_Colab/ArtisticStyle/output_at_iteration_47.png\n",
            "Iteration 47 completed in 14s\n",
            "Start of iteration 48\n",
            "Current loss value: 205210720.0\n",
            "Image saved as /content/drive/My Drive/Data_Colab/ArtisticStyle/output_at_iteration_48.png\n",
            "Iteration 48 completed in 14s\n",
            "Start of iteration 49\n",
            "Current loss value: 203337000.0\n",
            "Image saved as /content/drive/My Drive/Data_Colab/ArtisticStyle/output_at_iteration_49.png\n",
            "Iteration 49 completed in 14s\n",
            "Start of iteration 50\n",
            "Current loss value: 201315410.0\n",
            "Image saved as /content/drive/My Drive/Data_Colab/ArtisticStyle/output_at_iteration_50.png\n",
            "Iteration 50 completed in 14s\n",
            "Start of iteration 51\n",
            "Current loss value: 199378820.0\n",
            "Image saved as /content/drive/My Drive/Data_Colab/ArtisticStyle/output_at_iteration_51.png\n",
            "Iteration 51 completed in 14s\n",
            "Start of iteration 52\n",
            "Current loss value: 196647730.0\n",
            "Image saved as /content/drive/My Drive/Data_Colab/ArtisticStyle/output_at_iteration_52.png\n",
            "Iteration 52 completed in 14s\n",
            "Start of iteration 53\n",
            "Current loss value: 193495900.0\n",
            "Image saved as /content/drive/My Drive/Data_Colab/ArtisticStyle/output_at_iteration_53.png\n",
            "Iteration 53 completed in 14s\n",
            "Start of iteration 54\n",
            "Current loss value: 190970610.0\n",
            "Image saved as /content/drive/My Drive/Data_Colab/ArtisticStyle/output_at_iteration_54.png\n",
            "Iteration 54 completed in 14s\n",
            "Start of iteration 55\n",
            "Current loss value: 189234510.0\n",
            "Image saved as /content/drive/My Drive/Data_Colab/ArtisticStyle/output_at_iteration_55.png\n",
            "Iteration 55 completed in 14s\n",
            "Start of iteration 56\n",
            "Current loss value: 187817650.0\n",
            "Image saved as /content/drive/My Drive/Data_Colab/ArtisticStyle/output_at_iteration_56.png\n",
            "Iteration 56 completed in 14s\n",
            "Start of iteration 57\n",
            "Current loss value: 186566750.0\n",
            "Image saved as /content/drive/My Drive/Data_Colab/ArtisticStyle/output_at_iteration_57.png\n",
            "Iteration 57 completed in 14s\n",
            "Start of iteration 58\n",
            "Current loss value: 185539170.0\n",
            "Image saved as /content/drive/My Drive/Data_Colab/ArtisticStyle/output_at_iteration_58.png\n",
            "Iteration 58 completed in 14s\n",
            "Start of iteration 59\n",
            "Current loss value: 184228700.0\n",
            "Image saved as /content/drive/My Drive/Data_Colab/ArtisticStyle/output_at_iteration_59.png\n",
            "Iteration 59 completed in 14s\n",
            "Start of iteration 60\n",
            "Current loss value: 182869040.0\n",
            "Image saved as /content/drive/My Drive/Data_Colab/ArtisticStyle/output_at_iteration_60.png\n",
            "Iteration 60 completed in 14s\n",
            "Start of iteration 61\n",
            "Current loss value: 181868000.0\n",
            "Image saved as /content/drive/My Drive/Data_Colab/ArtisticStyle/output_at_iteration_61.png\n",
            "Iteration 61 completed in 14s\n",
            "Start of iteration 62\n",
            "Current loss value: 180854370.0\n",
            "Image saved as /content/drive/My Drive/Data_Colab/ArtisticStyle/output_at_iteration_62.png\n",
            "Iteration 62 completed in 14s\n",
            "Start of iteration 63\n",
            "Current loss value: 179883310.0\n",
            "Image saved as /content/drive/My Drive/Data_Colab/ArtisticStyle/output_at_iteration_63.png\n",
            "Iteration 63 completed in 14s\n",
            "Start of iteration 64\n",
            "Current loss value: 178318180.0\n",
            "Image saved as /content/drive/My Drive/Data_Colab/ArtisticStyle/output_at_iteration_64.png\n",
            "Iteration 64 completed in 14s\n",
            "Start of iteration 65\n",
            "Current loss value: 177008660.0\n",
            "Image saved as /content/drive/My Drive/Data_Colab/ArtisticStyle/output_at_iteration_65.png\n",
            "Iteration 65 completed in 14s\n",
            "Start of iteration 66\n",
            "Current loss value: 175279020.0\n",
            "Image saved as /content/drive/My Drive/Data_Colab/ArtisticStyle/output_at_iteration_66.png\n",
            "Iteration 66 completed in 14s\n",
            "Start of iteration 67\n",
            "Current loss value: 173454820.0\n",
            "Image saved as /content/drive/My Drive/Data_Colab/ArtisticStyle/output_at_iteration_67.png\n",
            "Iteration 67 completed in 14s\n",
            "Start of iteration 68\n",
            "Current loss value: 172254020.0\n",
            "Image saved as /content/drive/My Drive/Data_Colab/ArtisticStyle/output_at_iteration_68.png\n",
            "Iteration 68 completed in 14s\n",
            "Start of iteration 69\n",
            "Current loss value: 171272830.0\n",
            "Image saved as /content/drive/My Drive/Data_Colab/ArtisticStyle/output_at_iteration_69.png\n",
            "Iteration 69 completed in 14s\n",
            "Start of iteration 70\n",
            "Current loss value: 170298960.0\n",
            "Image saved as /content/drive/My Drive/Data_Colab/ArtisticStyle/output_at_iteration_70.png\n",
            "Iteration 70 completed in 14s\n",
            "Start of iteration 71\n",
            "Current loss value: 169336240.0\n",
            "Image saved as /content/drive/My Drive/Data_Colab/ArtisticStyle/output_at_iteration_71.png\n",
            "Iteration 71 completed in 14s\n",
            "Start of iteration 72\n",
            "Current loss value: 168454940.0\n",
            "Image saved as /content/drive/My Drive/Data_Colab/ArtisticStyle/output_at_iteration_72.png\n",
            "Iteration 72 completed in 14s\n",
            "Start of iteration 73\n",
            "Current loss value: 167653180.0\n",
            "Image saved as /content/drive/My Drive/Data_Colab/ArtisticStyle/output_at_iteration_73.png\n",
            "Iteration 73 completed in 14s\n",
            "Start of iteration 74\n",
            "Current loss value: 166759500.0\n",
            "Image saved as /content/drive/My Drive/Data_Colab/ArtisticStyle/output_at_iteration_74.png\n",
            "Iteration 74 completed in 14s\n",
            "Start of iteration 75\n",
            "Current loss value: 165541920.0\n",
            "Image saved as /content/drive/My Drive/Data_Colab/ArtisticStyle/output_at_iteration_75.png\n",
            "Iteration 75 completed in 14s\n",
            "Start of iteration 76\n",
            "Current loss value: 164552020.0\n",
            "Image saved as /content/drive/My Drive/Data_Colab/ArtisticStyle/output_at_iteration_76.png\n",
            "Iteration 76 completed in 14s\n",
            "Start of iteration 77\n",
            "Current loss value: 163681630.0\n",
            "Image saved as /content/drive/My Drive/Data_Colab/ArtisticStyle/output_at_iteration_77.png\n",
            "Iteration 77 completed in 14s\n",
            "Start of iteration 78\n",
            "Current loss value: 162878450.0\n",
            "Image saved as /content/drive/My Drive/Data_Colab/ArtisticStyle/output_at_iteration_78.png\n",
            "Iteration 78 completed in 14s\n",
            "Start of iteration 79\n",
            "Current loss value: 162100350.0\n",
            "Image saved as /content/drive/My Drive/Data_Colab/ArtisticStyle/output_at_iteration_79.png\n",
            "Iteration 79 completed in 14s\n",
            "Start of iteration 80\n",
            "Current loss value: 161416200.0\n",
            "Image saved as /content/drive/My Drive/Data_Colab/ArtisticStyle/output_at_iteration_80.png\n",
            "Iteration 80 completed in 14s\n",
            "Start of iteration 81\n",
            "Current loss value: 160733820.0\n",
            "Image saved as /content/drive/My Drive/Data_Colab/ArtisticStyle/output_at_iteration_81.png\n",
            "Iteration 81 completed in 14s\n",
            "Start of iteration 82\n",
            "Current loss value: 159961740.0\n",
            "Image saved as /content/drive/My Drive/Data_Colab/ArtisticStyle/output_at_iteration_82.png\n",
            "Iteration 82 completed in 14s\n",
            "Start of iteration 83\n",
            "Current loss value: 159129150.0\n",
            "Image saved as /content/drive/My Drive/Data_Colab/ArtisticStyle/output_at_iteration_83.png\n",
            "Iteration 83 completed in 14s\n",
            "Start of iteration 84\n",
            "Current loss value: 158514080.0\n",
            "Image saved as /content/drive/My Drive/Data_Colab/ArtisticStyle/output_at_iteration_84.png\n",
            "Iteration 84 completed in 14s\n",
            "Start of iteration 85\n",
            "Current loss value: 157170780.0\n",
            "Image saved as /content/drive/My Drive/Data_Colab/ArtisticStyle/output_at_iteration_85.png\n",
            "Iteration 85 completed in 14s\n",
            "Start of iteration 86\n",
            "Current loss value: 156040200.0\n",
            "Image saved as /content/drive/My Drive/Data_Colab/ArtisticStyle/output_at_iteration_86.png\n",
            "Iteration 86 completed in 14s\n",
            "Start of iteration 87\n",
            "Current loss value: 155085250.0\n",
            "Image saved as /content/drive/My Drive/Data_Colab/ArtisticStyle/output_at_iteration_87.png\n",
            "Iteration 87 completed in 14s\n",
            "Start of iteration 88\n",
            "Current loss value: 154227120.0\n",
            "Image saved as /content/drive/My Drive/Data_Colab/ArtisticStyle/output_at_iteration_88.png\n",
            "Iteration 88 completed in 14s\n",
            "Start of iteration 89\n",
            "Current loss value: 153319330.0\n",
            "Image saved as /content/drive/My Drive/Data_Colab/ArtisticStyle/output_at_iteration_89.png\n",
            "Iteration 89 completed in 14s\n",
            "Start of iteration 90\n",
            "Current loss value: 152674910.0\n",
            "Image saved as /content/drive/My Drive/Data_Colab/ArtisticStyle/output_at_iteration_90.png\n",
            "Iteration 90 completed in 14s\n",
            "Start of iteration 91\n",
            "Current loss value: 151630610.0\n",
            "Image saved as /content/drive/My Drive/Data_Colab/ArtisticStyle/output_at_iteration_91.png\n",
            "Iteration 91 completed in 14s\n",
            "Start of iteration 92\n",
            "Current loss value: 150617730.0\n",
            "Image saved as /content/drive/My Drive/Data_Colab/ArtisticStyle/output_at_iteration_92.png\n",
            "Iteration 92 completed in 14s\n",
            "Start of iteration 93\n",
            "Current loss value: 149962880.0\n",
            "Image saved as /content/drive/My Drive/Data_Colab/ArtisticStyle/output_at_iteration_93.png\n",
            "Iteration 93 completed in 14s\n",
            "Start of iteration 94\n",
            "Current loss value: 149322240.0\n",
            "Image saved as /content/drive/My Drive/Data_Colab/ArtisticStyle/output_at_iteration_94.png\n",
            "Iteration 94 completed in 14s\n",
            "Start of iteration 95\n",
            "Current loss value: 148712450.0\n",
            "Image saved as /content/drive/My Drive/Data_Colab/ArtisticStyle/output_at_iteration_95.png\n",
            "Iteration 95 completed in 14s\n",
            "Start of iteration 96\n",
            "Current loss value: 148069230.0\n",
            "Image saved as /content/drive/My Drive/Data_Colab/ArtisticStyle/output_at_iteration_96.png\n",
            "Iteration 96 completed in 14s\n",
            "Start of iteration 97\n",
            "Current loss value: 147568670.0\n",
            "Image saved as /content/drive/My Drive/Data_Colab/ArtisticStyle/output_at_iteration_97.png\n",
            "Iteration 97 completed in 14s\n",
            "Start of iteration 98\n",
            "Current loss value: 146953250.0\n",
            "Image saved as /content/drive/My Drive/Data_Colab/ArtisticStyle/output_at_iteration_98.png\n",
            "Iteration 98 completed in 14s\n",
            "Start of iteration 99\n",
            "Current loss value: 146369100.0\n",
            "Image saved as /content/drive/My Drive/Data_Colab/ArtisticStyle/output_at_iteration_99.png\n",
            "Iteration 99 completed in 15s\n"
          ],
          "name": "stdout"
        }
      ]
    },
    {
      "cell_type": "markdown",
      "metadata": {
        "id": "SkiJtofbWWy1"
      },
      "source": [
        "# 8) Generar imágenes para distintas combinaciones de pesos de las losses. Explicar las diferencias. (Adjuntar las imágenes generadas como archivos separados.)\n",
        "\n",
        "Respuesta:\n",
        "\n",
        "# 9) Cambiar las imágenes de contenido y estilo por unas elegidas por usted. Adjuntar el resultado.\n",
        "\n",
        "Respuesta:"
      ]
    },
    {
      "cell_type": "code",
      "metadata": {
        "id": "Ce4GmZz2AYka"
      },
      "source": [
        ""
      ],
      "execution_count": null,
      "outputs": []
    }
  ]
}